{
 "cells": [
  {
   "cell_type": "markdown",
   "id": "d597a50b-6855-48a2-950b-1af0c74e635e",
   "metadata": {},
   "source": [
    "#Data Science Tools and Ecosystem"
   ]
  },
  {
   "cell_type": "markdown",
   "id": "d143c3bd-66d5-4d5e-a845-18d72173d8f7",
   "metadata": {},
   "source": [
    "##In this notebook, Data Science Tools and Ecosystem are summarized."
   ]
  },
  {
   "cell_type": "markdown",
   "id": "4c474625-7279-4f9a-9746-de87a94526c8",
   "metadata": {},
   "source": [
    "#Some of the commonly used libraries used by Data Scientists include:"
   ]
  },
  {
   "cell_type": "code",
   "execution_count": null,
   "id": "7fb654d1-67d7-470b-b5bb-fa3debc35757",
   "metadata": {
    "tags": []
   },
   "outputs": [],
   "source": [
    "1.Python\n",
    "2.R\n",
    "3.SQL\n"
   ]
  },
  {
   "cell_type": "markdown",
   "id": "0276f0af-120b-4249-bf13-cb1e7c8c3f48",
   "metadata": {},
   "source": [
    "#Some of the commonly used libraries used by Data Scientists include:\n"
   ]
  },
  {
   "cell_type": "code",
   "execution_count": null,
   "id": "39542a77-363a-4c07-8054-55feff61c4a4",
   "metadata": {
    "tags": []
   },
   "outputs": [],
   "source": [
    "1.Matplot\n",
    "2.Seaborn\n",
    "3.Pandas\n",
    "4.Numpy"
   ]
  },
  {
   "cell_type": "markdown",
   "id": "a7c832a7-f23f-4994-a938-520b0284a162",
   "metadata": {
    "tags": []
   },
   "source": [
    "|Data Science tools|\n",
    "|------------------|\n",
    "|Tensorflow|\n",
    "|Apache Spark|\n",
    "|Scikit-learn|"
   ]
  },
  {
   "cell_type": "markdown",
   "id": "173fefc5-8e27-4883-b596-4c162f21d744",
   "metadata": {},
   "source": [
    "###Below are a few examples of evaluating arithmetic expressions in Python"
   ]
  },
  {
   "cell_type": "code",
   "execution_count": 11,
   "id": "b3ba2625-cb7d-4b91-a27f-b5905dd31108",
   "metadata": {
    "tags": []
   },
   "outputs": [
    {
     "data": {
      "text/plain": [
       "17"
      ]
     },
     "execution_count": 11,
     "metadata": {},
     "output_type": "execute_result"
    }
   ],
   "source": [
    "#this a simple arithmetic expression to mutiply then add integers\n",
    "(3*4)+5\n",
    "\n",
    "    "
   ]
  },
  {
   "cell_type": "code",
   "execution_count": 18,
   "id": "15fb97fb-16b3-4e9f-b8d2-ab121f8641fb",
   "metadata": {
    "tags": []
   },
   "outputs": [
    {
     "name": "stdout",
     "output_type": "stream",
     "text": [
      "3\n",
      "20\n",
      "3hours20minutes\n"
     ]
    }
   ],
   "source": [
    "#This will convert 200 minutes to hours by diving by 60\n",
    "a=200\n",
    "b=200//60\n",
    "c=200%60\n",
    "print(b)\n",
    "print(c)\n",
    "print(f\"{b}hours{c}minutes\")"
   ]
  },
  {
   "cell_type": "markdown",
   "id": "b2adad78-194d-432e-b5d3-50af1e6f5c4a",
   "metadata": {},
   "source": [
    "**Objectives**"
   ]
  },
  {
   "cell_type": "markdown",
   "id": "fb41e5f6-9919-4eba-86dd-7edfeeb29ebf",
   "metadata": {},
   "source": [
    "- List popular languages for Data Science.\n",
    "- Identify libraries used for Data Science.\n",
    "- Explain the tools and frameworks for Data Science.\n",
    "- Understand the basics of Machine Learning.\n",
    "- Explore data visualization techniques."
   ]
  },
  {
   "cell_type": "markdown",
   "id": "a4edd8da-bb2e-41c2-918f-c9d8a92ffad5",
   "metadata": {},
   "source": [
    "##"
   ]
  }
 ],
 "metadata": {
  "kernelspec": {
   "display_name": "Python",
   "language": "python",
   "name": "conda-env-python-py"
  },
  "language_info": {
   "codemirror_mode": {
    "name": "ipython",
    "version": 3
   },
   "file_extension": ".py",
   "mimetype": "text/x-python",
   "name": "python",
   "nbconvert_exporter": "python",
   "pygments_lexer": "ipython3",
   "version": "3.7.12"
  }
 },
 "nbformat": 4,
 "nbformat_minor": 5
}
